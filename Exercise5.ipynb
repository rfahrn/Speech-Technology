{
  "cells": [
    {
      "cell_type": "markdown",
      "metadata": {},
      "source": [
        "Author: \n",
        "\n",
        "Rebecka Fahrni (18-735-522)"
      ]
    },
    {
      "cell_type": "markdown",
      "metadata": {
        "id": "fricRbYq0Iqi"
      },
      "source": [
        "# Exercise 5\n",
        "\n",
        "## Instructions\n",
        "\n",
        "- Make sure you have uploaded the audio files to Google Drive.\n",
        "- Please read the markdown sections, and code comments carefully before answering.\n",
        "- You are required to treat ``...`` as incomplete code, which you are required to complete.\n",
        "- Each incomplete region marked by ``...`` can be completed with a maximum of 2 statements (2 lines of code in Python).\n",
        "- You may refer to the slides and reference material, but may not use AI code completion.\n",
        "- Run all code cells in the notebook even if it does not require any answer from your part.\n",
        "- The point for each section or sub-section is given in square brackets. E.g [15 pt] means 15 points.\n",
        "- Pay attention to Q. & A. questions. The markdown-python cell separation is not always obvious.\n",
        "- **ATTENTION**: There are many places where the path of the audio file needs to be fixed by you."
      ]
    },
    {
      "cell_type": "code",
      "execution_count": 65,
      "metadata": {
        "id": "HlBEs5gZz25Y"
      },
      "outputs": [],
      "source": [
        "# mount google drive\n",
        "#from google.colab import drive\n",
        "#drive.mount('/content/drive', force_remount=True)"
      ]
    },
    {
      "cell_type": "code",
      "execution_count": 66,
      "metadata": {
        "id": "pBqsRBFz26SZ"
      },
      "outputs": [],
      "source": [
        "#!pip install git+https://github.com/openai/whisper.git"
      ]
    },
    {
      "cell_type": "code",
      "execution_count": 67,
      "metadata": {
        "id": "KSE4jc_C3DFb"
      },
      "outputs": [],
      "source": [
        "#!pip install jiwer"
      ]
    },
    {
      "cell_type": "code",
      "execution_count": 68,
      "metadata": {
        "id": "1bam2hZTOpPf"
      },
      "outputs": [
        {
          "data": {
            "text/plain": [
              "0.5"
            ]
          },
          "execution_count": 68,
          "metadata": {},
          "output_type": "execute_result"
        }
      ],
      "source": [
        "# jiwer example usage\n",
        "import jiwer\n",
        "reference = \"hello world\"\n",
        "hypothesis = \"hello duck\"\n",
        "\n",
        "error = jiwer.wer(reference, hypothesis)\n",
        "error\n"
      ]
    },
    {
      "cell_type": "code",
      "execution_count": 69,
      "metadata": {
        "id": "bocPy_DMdzeO"
      },
      "outputs": [
        {
          "data": {
            "text/plain": [
              "0.45454545454545453"
            ]
          },
          "execution_count": 69,
          "metadata": {},
          "output_type": "execute_result"
        }
      ],
      "source": [
        "character_error = jiwer.cer(reference, hypothesis)\n",
        "character_error"
      ]
    },
    {
      "cell_type": "code",
      "execution_count": 70,
      "metadata": {
        "id": "zpeHbC6WSaK1"
      },
      "outputs": [],
      "source": [
        "import warnings\n",
        "warnings.filterwarnings(\"ignore\")"
      ]
    },
    {
      "cell_type": "markdown",
      "metadata": {
        "id": "bg3DNBza0m-Z"
      },
      "source": [
        "## 1. Word Error Rate (20pt)\n",
        "\n",
        "Questions:\n",
        "\n",
        "1. Use jiwer to get WER and CER between the following hypothesis and reference (5)?"
      ]
    },
    {
      "cell_type": "code",
      "execution_count": 71,
      "metadata": {
        "id": "8q_U8hrRbgeR"
      },
      "outputs": [],
      "source": [
        "ref = 'HE HOPED THERE WOULD BE STEW FOR DINNER TURNIPS AND CARROTS AND BRUISED POTATOES AND FAT MUTTON PIECES TO BE LADLED OUT IN THICK PEPPERED FLOUR FATTENED SAUCE'\n",
        "hyp = 'HE HOPED THERE WOULD BE STEW FOR DINNER TURNIPS AND CARROTS AND BRUISED POTATOES AND FAT MUTTON PIECES TO BE LADLED OUT IN THICK PEPPERED FLOWER FATTEN SAUCE'\n",
        "wer = jiwer.wer(ref, hyp)\n",
        "cer = jiwer.cer(ref, hyp)"
      ]
    },
    {
      "cell_type": "markdown",
      "metadata": {
        "id": "0ZS292rUbsQe"
      },
      "source": [
        "2. Give example of an ASR output with WER 10% with only one of the following errors: insertions, deletions, or substitutions w.r.t the following reference? (5)\n",
        "\n",
        "Reference is:\n",
        "\n",
        "THE DARK SUIT WAS IN GREASY WASH WATER ALL YEAR\n",
        "\n",
        "\n",
        "----\n",
        "Answer: so the total number of words in the reference is 10. So, 10% of 10 is 1 word error. So, the hypothesis should have 9 words correct and 1 word error. The error can be either insertion, deletion, or substitution.\n",
        "For example, the hypothesis can be: \n",
        "\n",
        "- for an inserion error, THE DARK SUIT WAS IN GREASY WASH WATER ALL YEAR QUICKLY (added one word), \n",
        "\n",
        "- for a deletion error: THE DARK SUIT WAS IN GREASY WASH WATER ALL (deleted one word), \n",
        "\n",
        "- for a substitution error: THE DARK SUIT WAS IN GREASY WASH WATER ALL MONTH (substituted one word/ year by month).\n"
      ]
    },
    {
      "cell_type": "markdown",
      "metadata": {
        "id": "MYPvGxoMcEak"
      },
      "source": [
        "3.  Give example of an ASR output with WER 150% w.r.t the following reference? (5)\n",
        "\n",
        "Reference is:\n",
        "\n",
        "THE DARK SUIT WAS IN GREASY WASH WATER ALL YEAR\n",
        "\n",
        "---\n",
        "Answer: so the total number of words in the reference is 10. So, 150% of 10 is 15 word errors.\n",
        "So, in the case of an all insertion error, the hypothesis length is calculated as 10+15=25 words. The hypothesis can be:\n",
        "\n",
        "THE DARK SUIT WAS IN GREASY WASH WATER ALL YEAR SUDDENLY QUICKLY RANDOMLY APPEARED AGAIN\n",
        "\n",
        "in the case of combination of deletion, substitution, and insertion errors, the hypothesis can have also a hypothesis lenght of 8. Where the errors can be (6 substitutions, 4 deletions, 5 insertions):\n",
        "then the hypothesis can be:\n",
        "DARK SUIT WAS IN GREASY WASH WATER ALL YEAR SUDDENLY QUICKLY RANDOMLY APPEARED AGAIN (and be still have a WER of 150%)\n"
      ]
    },
    {
      "cell_type": "markdown",
      "metadata": {
        "id": "npXGovzKdW3c"
      },
      "source": [
        "4. A dataset has 10 speech utterances. We are also given reference text for each of those 10 utterances. Given only WER of an ASR system for each of the 10 utterances (i.e. we do not have access to the hypothesis of the ASR system), how can we calculate the WER on the entire dataset ? (5)\n",
        "\n",
        "---\n",
        "Answer:  overall WER for the dataset is computed as total number of edit errors across all utterances divided by the total number of words in references for all utterances. Since we are given only the WER for each utterance - use formula:\n",
        "$$\n",
        "\\text{WER}_{\\text{dataset}} = \\frac{\\sum_{i=1}^{10} (\\text{WER}_i \\times R_i)}{\\sum_{i=1}^{10} R_i}\n",
        "$$\n",
        "with:\n",
        "- $( R_i)$ is the total number of words in the reference for utterance $( i)$.  \n",
        "- $( \\text{WER}_i)$ is the WER for utterance $( i)$.  \n",
        "- $( \\text{WER}_i \\times R_i)$ gives the total edit errors for utterance $( i )$.\n",
        "\n",
        "so the steps are as follows:\n",
        "1. for each utterance $( i)$, multiply $( \\text{WER}_i)$ (expressed as a fraction) by $( R_i)$ to calculate total edit errors.  \n",
        "2. sum total edit errors for all $( 10 )$ utterances.  \n",
        "3. sum  total number of words in all references $(( \\sum_{i=1}^{10} R_i ))$.  \n",
        "4. Divide the total edit errors by the total reference words to get the overall WER.\n",
        "\n",
        "for example:\n",
        "- $( R_1 = 10, WER_1 = 0.2 )$ (20%)  \n",
        "- $( R_2 = 15, WER_2 = 0.1 )$ (10%)  \n",
        "- $( \\ldots )$  \n",
        "- $( R_{10} = 8, WER_{10} = 0.3 )$ (30%)  \n",
        "then the total edit errors across all utterances is:\n",
        "$$\n",
        "\\text{Edit Errors}_\\text{total} = (0.2 \\times 10) + (0.1 \\times 15) + \\ldots + (0.3 \\times 8)\n",
        "$$\n",
        "\n",
        "and the total reference words:\n",
        "$$\n",
        "\\text{Words}_\\text{total} = R_1 + R_2 + \\ldots + R_{10}\n",
        "$$\n",
        "\n",
        "so dataset WER:\n",
        "$$\n",
        "\\text{WER}_{\\text{dataset}} = \\frac{\\text{Edit Errors}_\\text{total}}{\\text{Words}_\\text{total}}\n",
        "$$\n",
        "\n"
      ]
    },
    {
      "cell_type": "markdown",
      "metadata": {
        "id": "2FbcetEP0o6q"
      },
      "source": [
        "## 2. Decoding with Whisper\n",
        "\n",
        "In this section we will decode with the [AMI dataset](https://groups.inf.ed.ac.uk/ami/corpus/). We will use a subset of the test split of the dataset. We will use the term \"AMI test\" to refer to this set.\n",
        "\n",
        "There are three tasks in this section:\n",
        "\n",
        "1. Decode on AMI test with default parameters and evaluate the model's performance.\n",
        "2. Decode on AMI test with beam search with beam size 4 and evaluate the model's performance.\n",
        "3. Evaluate WER before and after text normalization"
      ]
    },
    {
      "cell_type": "markdown",
      "metadata": {
        "id": "48rmYKquRtNs"
      },
      "source": [
        "## 2.1 Example usage"
      ]
    },
    {
      "cell_type": "code",
      "execution_count": 72,
      "metadata": {},
      "outputs": [],
      "source": [
        "import os\n",
        "path = os.getcwd()\n",
        "audio_dir = path +'/ami-en2002b/ami-en2002b'"
      ]
    },
    {
      "cell_type": "code",
      "execution_count": 73,
      "metadata": {
        "id": "zzsDz8JKPgbx"
      },
      "outputs": [
        {
          "data": {
            "text/plain": [
              "' Well, I thought you had tomorrow.'"
            ]
          },
          "execution_count": 73,
          "metadata": {},
          "output_type": "execute_result"
        }
      ],
      "source": [
        "from whisper import load_model\n",
        "model = load_model('small', device='cpu', download_root='./')\n",
        "# Whisper uses a greedy decoder when no option is specified.\n",
        "#result_greedy = model.transcribe(\"/content/drive/MyDrive/work/uzh/teaching/2024-speech-technology/audio_files_ex5/ami-en2002b/EN2002b-3-379-ihm.wav\", language=\"en\", temperature=0)\n",
        "test_audio = audio_dir+ '/EN2002b-3-379-ihm.wav'\n",
        "result_greedy = model.transcribe(test_audio, language=\"en\", temperature=0)\n",
        "result_greedy['text']  # way to access hypothesis after decoding\n"
      ]
    },
    {
      "cell_type": "markdown",
      "metadata": {
        "id": "09q2TK2cUYcI"
      },
      "source": [
        "## 2.2 Whisper decoding (5 pt)"
      ]
    },
    {
      "cell_type": "code",
      "execution_count": 74,
      "metadata": {
        "id": "LYqoLwe8dJcV"
      },
      "outputs": [],
      "source": [
        "utt2ref = {}\n",
        "# TODO: fix path\n",
        "with open(audio_dir+ '/text_random150') as ipf:\n",
        "  for ln in ipf:\n",
        "    utt, *text = ln.strip().split()\n",
        "    utt2ref[utt] = \" \".join(text)"
      ]
    },
    {
      "cell_type": "code",
      "execution_count": 75,
      "metadata": {
        "collapsed": true,
        "id": "90xFeD4ScAiU"
      },
      "outputs": [],
      "source": [
        "# Decode with default settings (greedy decoding)\n",
        "utt2hyp = {}\n",
        "# for each utterance in utt2ref, decode and store the result in utt2hyp[utt]\n",
        "for utt in utt2ref:\n",
        "    audio_path = os.path.join(audio_dir, f\"{utt}.wav\")\n",
        "    if os.path.exists(audio_path):  \n",
        "        result = model.transcribe(audio_path, language=\"en\", temperature=0)\n",
        "        utt2hyp[utt] = result['text']\n",
        "    else:\n",
        "        print(f\"WARNING: Audio file not found for utterance {utt}\")"
      ]
    },
    {
      "cell_type": "code",
      "execution_count": 76,
      "metadata": {
        "id": "QYPjvdnpdadV"
      },
      "outputs": [
        {
          "data": {
            "text/plain": [
              "('EN2002b-1-170-ihm',\n",
              " ['GOALS', 'OR', 'SOMETHING'],\n",
              " ['goals', 'or', 'something.'])"
            ]
          },
          "execution_count": 76,
          "metadata": {},
          "output_type": "execute_result"
        }
      ],
      "source": [
        "results = []\n",
        "for utt in utt2ref:\n",
        "  if utt not in utt2hyp:\n",
        "    print(f\"ERROR: Missing hypothesis for utt {utt}\")\n",
        "    break\n",
        "  results.append((utt, utt2ref[utt].split(), utt2hyp[utt].split()))\n",
        "results[0] # example showing what results contains"
      ]
    },
    {
      "cell_type": "code",
      "execution_count": 77,
      "metadata": {},
      "outputs": [
        {
          "data": {
            "text/plain": [
              "('EN2002b-1-170-ihm',\n",
              " ['GOALS', 'OR', 'SOMETHING'],\n",
              " ['goals', 'or', 'something.'])"
            ]
          },
          "execution_count": 77,
          "metadata": {},
          "output_type": "execute_result"
        }
      ],
      "source": [
        "# now using Beam Search: \n",
        "# Decode with beam search decoding (beam size 4)\n",
        "utt2hyp_beam = {}\n",
        "for utt in utt2ref:\n",
        "    audio_path = os.path.join(audio_dir, f\"{utt}.wav\")\n",
        "    if os.path.exists(audio_path): \n",
        "        result_beam = model.transcribe(audio_path, language=\"en\", beam_size=4)\n",
        "        utt2hyp_beam[utt] = result_beam['text']\n",
        "        \n",
        "results_beam = []\n",
        "for utt in utt2ref:\n",
        "  if utt not in utt2hyp_beam:\n",
        "    break\n",
        "  results_beam.append((utt, utt2ref[utt].split(), utt2hyp_beam[utt].split()))\n",
        "results_beam[0]\n"
      ]
    },
    {
      "cell_type": "code",
      "execution_count": 78,
      "metadata": {
        "id": "8aOwCn9YedG2"
      },
      "outputs": [],
      "source": [
        "#!pip install kaldialign"
      ]
    },
    {
      "cell_type": "code",
      "execution_count": 79,
      "metadata": {
        "id": "CWttJA0UdjOb"
      },
      "outputs": [],
      "source": [
        "# DO NOT MODIFY THIS CODE\n",
        "# Code modified from Icefall: https://github.com/k2-fsa/icefall/blob/master/icefall/utils.py\n",
        "# Copyright      2021  Xiaomi Corp.        (authors: Fangjun Kuang,\n",
        "#                                                    Mingshuang Luo,\n",
        "#                                                    Zengwei Yao)\n",
        "#\n",
        "# See ../../LICENSE for clarification regarding multiple authors\n",
        "#\n",
        "# Licensed under the Apache License, Version 2.0 (the \"License\");\n",
        "# you may not use this file except in compliance with the License.\n",
        "# You may obtain a copy of the License at\n",
        "#\n",
        "#     http://www.apache.org/licenses/LICENSE-2.0\n",
        "#\n",
        "# Unless required by applicable law or agreed to in writing, software\n",
        "# distributed under the License is distributed on an \"AS IS\" BASIS,\n",
        "# WITHOUT WARRANTIES OR CONDITIONS OF ANY KIND, either express or implied.\n",
        "# See the License for the specific language governing permissions and\n",
        "# limitations under the License.\n",
        "\n",
        "from collections import defaultdict\n",
        "import kaldialign\n",
        "from typing import Dict, Tuple, List\n",
        "\n",
        "def get_error_stats(\n",
        "    results: List[Tuple[str, str]],\n",
        "    compute_CER: bool = False,\n",
        ") -> float:\n",
        "    \"\"\"Write statistics based on predicted results and reference transcripts.\n",
        "\n",
        "    It will write the following to the given file:\n",
        "\n",
        "        - WER\n",
        "        - number of insertions, deletions, substitutions, corrects and total\n",
        "          reference words. For example::\n",
        "\n",
        "              Errors: 23 insertions, 57 deletions, 212 substitutions, over 2606\n",
        "              reference words (2337 correct)\n",
        "\n",
        "        - The difference between the reference transcript and predicted result.\n",
        "          An instance is given below::\n",
        "\n",
        "            THE ASSOCIATION OF (EDISON->ADDISON) ILLUMINATING COMPANIES\n",
        "\n",
        "          The above example shows that the reference word is `EDISON`,\n",
        "          but it is predicted to `ADDISON` (a substitution error).\n",
        "\n",
        "          Another example is::\n",
        "\n",
        "            FOR THE FIRST DAY (SIR->*) I THINK\n",
        "\n",
        "          The reference word `SIR` is missing in the predicted\n",
        "          results (a deletion error).\n",
        "      results:\n",
        "        An iterable of tuples. The first element is the cut_id, the second is\n",
        "        the reference transcript and the third element is the predicted result.\n",
        "      enable_log:\n",
        "        If True, also print detailed WER to the console.\n",
        "        Otherwise, it is written only to the given file.\n",
        "    Returns:\n",
        "      Return None.\n",
        "    \"\"\"\n",
        "    subs: Dict[Tuple[str, str], int] = defaultdict(int)\n",
        "    ins: Dict[str, int] = defaultdict(int)\n",
        "    dels: Dict[str, int] = defaultdict(int)\n",
        "\n",
        "    # `words` stores counts per word, as follows:\n",
        "    #   corr, ref_sub, hyp_sub, ins, dels\n",
        "    words: Dict[str, List[int]] = defaultdict(lambda: [0, 0, 0, 0, 0])\n",
        "    num_corr = 0\n",
        "    ERR = \"*\"\n",
        "\n",
        "    for cut_id, ref, hyp in results:\n",
        "        ali = kaldialign.align(ref, hyp, ERR, sclite_mode=False)\n",
        "        for ref_word, hyp_word in ali:\n",
        "            if ref_word == ERR:\n",
        "                ins[hyp_word] += 1\n",
        "                words[hyp_word][3] += 1\n",
        "            elif hyp_word == ERR:\n",
        "                dels[ref_word] += 1\n",
        "                words[ref_word][4] += 1\n",
        "            elif hyp_word != ref_word:\n",
        "                subs[(ref_word, hyp_word)] += 1\n",
        "                words[ref_word][1] += 1\n",
        "                words[hyp_word][2] += 1\n",
        "            else:\n",
        "                words[ref_word][0] += 1\n",
        "                num_corr += 1\n",
        "    ref_len = sum([len(r) for _, r, _ in results])\n",
        "    sub_errs = sum(subs.values())\n",
        "    ins_errs = sum(ins.values())\n",
        "    del_errs = sum(dels.values())\n",
        "    tot_errs = sub_errs + ins_errs + del_errs\n",
        "    tot_err_rate = \"%.2f\" % (100.0 * tot_errs / ref_len)\n",
        "\n",
        "\n",
        "    print(\n",
        "        f\"%WER {tot_errs / ref_len:.2%} \"\n",
        "        f\"[{tot_errs} / {ref_len}, {ins_errs} ins, \"\n",
        "        f\"{del_errs} del, {sub_errs} sub ]\"\n",
        "    )\n",
        "\n",
        "    print(f\"%WER = {tot_err_rate}\")\n",
        "    print(\n",
        "        f\"Errors: {ins_errs} insertions, {del_errs} deletions, \"\n",
        "        f\"{sub_errs} substitutions, over {ref_len} reference \"\n",
        "        f\"words ({num_corr} correct)\",\n",
        "    )\n",
        "    print(\n",
        "        \"Search below for sections starting with PER-UTT DETAILS:, \"\n",
        "        \"SUBSTITUTIONS:, DELETIONS:, INSERTIONS:, PER-WORD STATS:\",\n",
        "    )\n",
        "\n",
        "    print(\"\")\n",
        "    print(\"PER-UTT DETAILS: corr or (ref->hyp)  \")\n",
        "    for cut_id, ref, hyp in results:\n",
        "        ali = kaldialign.align(ref, hyp, ERR)\n",
        "        combine_successive_errors = True\n",
        "        if combine_successive_errors:\n",
        "            ali = [[[x], [y]] for x, y in ali]\n",
        "            for i in range(len(ali) - 1):\n",
        "                if ali[i][0] != ali[i][1] and ali[i + 1][0] != ali[i + 1][1]:\n",
        "                    ali[i + 1][0] = ali[i][0] + ali[i + 1][0]\n",
        "                    ali[i + 1][1] = ali[i][1] + ali[i + 1][1]\n",
        "                    ali[i] = [[], []]\n",
        "            ali = [\n",
        "                [\n",
        "                    list(filter(lambda a: a != ERR, x)),\n",
        "                    list(filter(lambda a: a != ERR, y)),\n",
        "                ]\n",
        "                for x, y in ali\n",
        "            ]\n",
        "            ali = list(filter(lambda x: x != [[], []], ali))\n",
        "            ali = [\n",
        "                [\n",
        "                    ERR if x == [] else \" \".join(x),\n",
        "                    ERR if y == [] else \" \".join(y),\n",
        "                ]\n",
        "                for x, y in ali\n",
        "            ]\n",
        "\n",
        "        print(\n",
        "            f\"{cut_id}:\\t\"\n",
        "            + \" \".join(\n",
        "                (\n",
        "                    ref_word if ref_word == hyp_word else f\"({ref_word}->{hyp_word})\"\n",
        "                    for ref_word, hyp_word in ali\n",
        "                )\n",
        "            ),\n",
        "        )\n",
        "\n",
        "    print(\"\")\n",
        "    print(\"SUBSTITUTIONS: count ref -> hyp\")\n",
        "\n",
        "    for count, (ref, hyp) in sorted([(v, k) for k, v in subs.items()], reverse=True):\n",
        "        print(f\"{count}   {ref} -> {hyp}\")\n",
        "\n",
        "    print(\"\")\n",
        "    print(\"DELETIONS: count ref\")\n",
        "    for count, ref in sorted([(v, k) for k, v in dels.items()], reverse=True):\n",
        "        print(f\"{count}   {ref}\")\n",
        "\n",
        "    print(\"\")\n",
        "    print(\"INSERTIONS: count hyp\")\n",
        "    for count, hyp in sorted([(v, k) for k, v in ins.items()], reverse=True):\n",
        "        print(f\"{count}   {hyp}\")\n",
        "\n",
        "    print(\"\")\n",
        "    print(\"PER-WORD STATS: word  corr tot_errs count_in_ref count_in_hyp\")\n",
        "    for _, word, counts in sorted(\n",
        "        [(sum(v[1:]), k, v) for k, v in words.items()], reverse=True\n",
        "    ):\n",
        "        (corr, ref_sub, hyp_sub, ins, dels) = counts\n",
        "        tot_errs = ref_sub + hyp_sub + ins + dels\n",
        "        ref_count = corr + ref_sub + dels\n",
        "        hyp_count = corr + hyp_sub + ins\n",
        "\n",
        "        print(f\"{word}   {corr} {tot_errs} {ref_count} {hyp_count}\")\n",
        "    return float(tot_err_rate)"
      ]
    },
    {
      "cell_type": "markdown",
      "metadata": {
        "id": "EWlAHt34ktNF"
      },
      "source": [
        "Run the above code. Check the most common errors (insertion, substituion, deletion) and propose some methods to fix the issue."
      ]
    },
    {
      "cell_type": "code",
      "execution_count": null,
      "metadata": {
        "collapsed": true,
        "id": "0EirLAkZS2VW"
      },
      "outputs": [],
      "source": [
        "get_error_stats(results)"
      ]
    },
    {
      "cell_type": "code",
      "execution_count": null,
      "metadata": {},
      "outputs": [],
      "source": [
        "get_error_stats(results_beam)"
      ]
    },
    {
      "cell_type": "markdown",
      "metadata": {},
      "source": [
        "**Answer:** Obersvations and Proposed Methods to Fix Decoding Issues\n",
        "\n",
        "**1. Observations**\n",
        "1. **Default Decoding: greedy Search**:\n",
        "   - Lower Word Error Rate (WER: 100.00%) but with notable **substitutions (872)**, **deletions (127)**, and **insertions (28)**\n",
        "   - Fewer insertion and substitution errors than beam search.\n",
        "   - Higher deletion errors compared to beam search.\n",
        "   - **Common Errors:**\n",
        "      - **Substitution Example:** `(YEAH → Thank you)`  \n",
        "      - **Deletion Example:** `(YOU → ∅)`  \n",
        "      - **Insertion Example:** `(∅ → you.)`  \n",
        "2. **Beam Search**:\n",
        "   - Slightly higher WER (\\~101.56%).\n",
        "   - Fewer deletions but increased insertions and substitutions.\n",
        "   - Slight improvement in word inclusion (one additional correct word).\n",
        "\n",
        "\n",
        "**2. Proposed Fixes**\n",
        "\n",
        "- Reduce Substitution Errors:\n",
        "   - **Observation:** Many substitutions occur with casual terms like *\"Yeah,\"* *\"You,\"* and *\"Okay.\"*\n",
        "\n",
        "   - **Fine-tune Language Model on Conversational Data**\n",
        "   - *Example Fix:* `(YEAH → Yeah)` instead of `(YEAH → Thank you)`\n",
        "   - one could train the model specifically on AMI meeting datasets.\n",
        "\n",
        "   - **Context-Aware Decoding**\n",
        "   - *Example Fix:* `(OH SHE HAS → Oh, she has)` instead of `(OH SHE HAS → Oh, shit)`\n",
        "   - so use a context-aware decoder to consider surrounding sentence structure.\n",
        "\n",
        "- Reduce Deletion Errors:\n",
        "   - **Observation:** Frequent deletions of shorter words (*\"you\"*, *\"it\"*, *\"well\"*) impact comprehension.\n",
        "\n",
        "   - **Adjust Confidence Thresholds**\n",
        "   - *Example Fix:* `(YOU → you)` instead of omitting \"YOU.\"\n",
        "   - so one could  retain low-confidence predictions if they are likely to be meaningful.\n",
        "\n",
        "Reduce Insertion Errors:\n",
        "   - **Observation:** Insertions like `you.` or `something.` degrade sentence clarity.\n",
        "\n",
        "   - **Adjust Beam Size**\n",
        "   - *Example Fix:* `(∅ → you.)` avoided by using a smaller beam size.\n",
        "   - one could experiment with beam sizes (e.g., reduce from 4 to 3/2).\n",
        "\n",
        "- **Length Penalty in Decoding**\n",
        "   - *Example Fix:* `(OH → No)` instead of generating unnecessary words.\n",
        "   - one could also maybe apply penalties for overly verbose outputs.\n",
        "\n",
        "Post-Processing with Heuristics:\n",
        "   - **Rule-Based Post-Processing**\n",
        "   - *Example Fix:* Remove repetitive outputs like `(MM → *)`.\n",
        "   - by maybe applying regex-based rules to clean outputs.\n",
        "\n",
        "   - **Error Correction Module**\n",
        "   - *Example Fix:* Replace hallucinated outputs like `(SNORE → Star)` with more plausible predictions.\n",
        "   - one could use an external correction layer trained on common AMI transcription errors.\n",
        "\n",
        "   - **Fine-Tuning**:\n",
        "   - one could also try to fine-tune the model on AMI meeting data to improve performance on this specific domain( meetings).\n",
        "\n",
        "---"
      ]
    },
    {
      "cell_type": "markdown",
      "metadata": {
        "id": "yfxSZskIk0RM"
      },
      "source": [
        "### Text normalization (20 pt)\n",
        "\n",
        "Whisper outputs human readable text by default. Notice that the this is not the case for reference.\n",
        "\n",
        "Normalize the reference and/or hypothesis text output in a way that both of them match. Then compute the WER again with ``get_error_stats()``.\n",
        "\n",
        "You may Google for any Python-relevant help for string processing. If you use an external reference, please add the reference in the comment.\n",
        "\n",
        "You may reuse code from previous sections to compute WER.\n"
      ]
    },
    {
      "cell_type": "code",
      "execution_count": 82,
      "metadata": {
        "id": "a4rTYKdhkzxC"
      },
      "outputs": [],
      "source": [
        "# Enter your code here. You can use multiple cells if necessary.\n",
        "# Code \"may\" be longer than 3 statements in this case.\n",
        "import spacy # using spaCy library\n",
        "from cleantext import clean # using clean-text library\n",
        "from jiwer import wer\n",
        "import re\n",
        "\n",
        "nlp = spacy.load('en_core_web_sm')\n",
        "\n",
        "replacement_dict = {\n",
        "    \"uh\": \"\", \"um\": \"\", \"mm-hmm\": \"yes\", \"mm\": \"\", \"hmm\": \"\", \"'cause\": \"because\",\n",
        "    \"yeah\": \"yes\", \"okay\": \"ok\", \"okey\": \"ok\", \"uh-huh\": \"yes\", \"uh-huh.\": \"yes\",\n",
        "    \"gonna\": \"going to\", \"wanna\": \"want to\", \"kinda\": \"kind of\", \"lemme\": \"let me\",\n",
        "    \"gotta\": \"got to\", \"ain't\": \"is not\", \"y'all\": \"you all\", \"n't\": \" not\",\n",
        "    \"it's\": \"it is\", \"i'm\": \"i am\", \"you're\": \"you are\", \"they're\": \"they are\",\n",
        "    }\n",
        "\n",
        "def replace_with_dict(text, replacements):\n",
        "    for key, value in replacements.items():\n",
        "        text = re.sub(rf'\\b{key}\\b', value, text, flags=re.IGNORECASE)\n",
        "    return text\n",
        "\n",
        "\n",
        "def normalize_text(text):\n",
        "    \"\"\"\n",
        "    Normalize text using spaCy and clean-text.\n",
        "    \"\"\"\n",
        "    #Clean text - clean-text libary\n",
        "    text = clean(text,\n",
        "        lower=True,\n",
        "        no_punct=True,\n",
        "        no_numbers=False,\n",
        "        replace_with_punct=\"\",\n",
        "        replace_with_url=\"\",\n",
        "        replace_with_email=\"\",\n",
        "        replace_with_number=\"\",\n",
        "        lang=\"en\")\n",
        "    # Step 2: Apply custom replacements\n",
        "    text = replace_with_dict(text, replacement_dict)\n",
        "    text = re.sub(r'\\s+', ' ', text).strip()\n",
        "    #tokenize/process - spaCy\n",
        "    doc = nlp(text)\n",
        "    tokens = [token.text for token in doc if not token.is_punct]\n",
        "    normalized_text = \" \".join(tokens).strip()\n",
        "    return normalized_text\n"
      ]
    },
    {
      "cell_type": "code",
      "execution_count": 83,
      "metadata": {
        "id": "y5ijJw1yVkIJ"
      },
      "outputs": [
        {
          "data": {
            "text/plain": [
              "('EN2002b-1-170-ihm', 'goals or something', 'goals or something')"
            ]
          },
          "execution_count": 83,
          "metadata": {},
          "output_type": "execute_result"
        }
      ],
      "source": [
        "\n",
        "results = []\n",
        "for utt in utt2ref:\n",
        "    if utt not in utt2hyp:\n",
        "        print(f\"ERROR: Missing hypothesis for utt {utt}\")\n",
        "        continue\n",
        "    ref_tokens = normalize_text(utt2ref[utt])\n",
        "    hyp_tokens = normalize_text(utt2hyp[utt])\n",
        "    \n",
        "    results.append((utt, ref_tokens, hyp_tokens))\n",
        "\n",
        "results[0] # example showing what results contains"
      ]
    },
    {
      "cell_type": "code",
      "execution_count": null,
      "metadata": {
        "collapsed": true,
        "id": "DUH6cCaEVwtj"
      },
      "outputs": [],
      "source": [
        "get_error_stats(results)\n"
      ]
    },
    {
      "cell_type": "markdown",
      "metadata": {
        "id": "ZLhaHy7GqOpM"
      },
      "source": [
        "## 2.5 Error analysis (5 pt)"
      ]
    },
    {
      "cell_type": "markdown",
      "metadata": {
        "id": "ToSQOh2dXmkL"
      },
      "source": [
        "Pick two specific types of errors and discuss how we can improve the ASR for such errors. Note that we are not referring to INSERTION, DELETION and SUBSTITUTION errors, but something more specific. For instance, you could mention a particular error like 'TWO -> TO' and propose a remedy. Choose the ASR output with the best WER so far for your analysis.\n",
        "\n",
        "---\n",
        "Answer:\n",
        "With a WER of 17.67%, the ASR system has shown significant improvement. However, certain error patterns still persist. Two specific types of errors that can be addressed are:\n",
        "\n",
        "**Obersvation:**\n",
        "- Example error 1 : EN2002b-0-36-ihm:\t(h e->i t) ... (so maybe: reference: he does not have to know exactly, hypothesis: it does not have to know exactly)\n",
        "- Example error 2 : EN2002b-3-2-ihm: (c->t) h a n (n e l->k y o u) ...  ( so maybe: reference: channel you, hypothesis: thank you)\n",
        "- Example error 3 : EN2002b-3-168-ihm: ... (*->b e) c a u s e i m s u r e ...( referece could be: cause I'm sure you've probably made some changes already, hypothesis: because I'm sure you've probably made some changes already)\n",
        "- Example error 4: EN2002b-3-14-ihm: (o h s h (e h a s → i t)) ... (so maybe: reference: oh she has, hypothesis: oh it)\n",
        "\n",
        "**Disscussion on Imporvement and Causes:**\n",
        "- In example 4, the model struggles with acoustic ambiguity. Fillers like \"oh\", \"um\", and \"uh\" have low phonetic energy and are often misinterpreted as content words.\n",
        "Instead of deprioritizing fillers, the language model (LM) interprets them as noise rather than meaningful words. To impove this one could introduce explicit filler tokens in the LM training data to help the model distinguish between fillers and content words. one could also try to use a disfluency detection module to identify and filter out fillers before decoding.\n",
        "- in exaple error 1 , the pronoun \"he\" is replaced with \"it\" due to contextual ambiguity and phonetic similarity.\n",
        "Similarly, in Example 3, the substitution \"cause\" becomes \"because\"—likely due to LM bias towards more frequent grammatical structures. To address this one could use a context-aware language model (BERT/GPT) that can better capture pronoun dependencies and sentence structure. one could also try to use a speaker-aware LM to adapt to individual speaking styles and improve pronoun resolution.\n",
        "- In example 2, the substitution of \"channel\" with \"thank\" highlights phonetic overlap. Short, low-energy words with similar phonetic patterns are prone to errors especially in spontaneous speech. One could address this by doing a phoneme-aware fine-tuning to better handle phonetic similar words or could trian ASR system on spontaneous speech dataset where similar overlaps frequently occur."
      ]
    },
    {
      "cell_type": "markdown",
      "metadata": {
        "id": "IHmJ23-tkkUJ"
      },
      "source": [
        "### 2.6 Plot WER vs utterance duration (10pt)\n",
        "\n",
        "Create a plot to check if the duration of the utterance is related to the WER. Conclude upon visual observation if there exists a correlation between the two quantities. Use the system with the best WER so far. Justify your response."
      ]
    },
    {
      "cell_type": "code",
      "execution_count": 85,
      "metadata": {},
      "outputs": [
        {
          "data": {
            "image/png": "[encoded data removed]",
            "text/plain": [
              "<Figure size 1200x600 with 1 Axes>"
            ]
          },
          "metadata": {},
          "output_type": "display_data"
        },
        {
          "name": "stdout",
          "output_type": "stream",
          "text": [
            "Correlation Coefficient: -0.17643302666339505\n"
          ]
        }
      ],
      "source": [
        "# Convert to DataFrame\n",
        "import pandas as pd\n",
        "from matplotlib import pyplot as plt\n",
        "import seaborn as sns\n",
        "import jiwer\n",
        "\n",
        "df = pd.DataFrame(results, columns=[\"utterance\", \"ref\", \"hyp\"])\n",
        "\n",
        "df = df[(df['ref'] != '') & (df['hyp'] != '')] # remove empty utterances (if any)\n",
        "df['WER'] = df.apply(lambda row: jiwer.wer(row['ref'], row['hyp']), axis=1)\n",
        "df['duration'] = df['ref'].apply(lambda x: len(x.split()) * 0.5) # approx. utterance duration (0.5s per word in reference)\n",
        "\n",
        "#df.head()\n",
        "#plot \n",
        "plt.figure(figsize=(12, 6))\n",
        "sns.scatterplot(data=df, x='duration', y='WER', s=100, color='b', alpha=0.7)\n",
        "plt.title('WER vs Utterance Duration')\n",
        "plt.xlabel('Utterance Duration (seconds)')\n",
        "plt.ylabel('Word Error Rate (WER)')\n",
        "plt.show()\n",
        "\n",
        "correlation = df['duration'].corr(df['WER'])\n",
        "print(f\"Correlation Coefficient: {correlation}\") # weak correlation"
      ]
    },
    {
      "cell_type": "markdown",
      "metadata": {},
      "source": [
        "Observation: \n",
        "From the visual observation, there is no clear positive correlation between utterance duration and WER. However:\n",
        "- Short utterances show higher variability in WER, with occasional extreme outliers.\n",
        "- Longer utterances tend to have lower and more consistent WER values, possibly because they provide more acoustic context for the ASR system to perform accurate predictions.\n",
        "\n",
        "These findings suggest that utterance length alone does not strongly dictate WER, but shorter utterances are more prone to variability in recognition performance, likely due to insufficient acoustic context or ambiguity in phonetic content."
      ]
    },
    {
      "cell_type": "markdown",
      "metadata": {
        "id": "bzA7rKZi4wr4"
      },
      "source": [
        "## 3. Whisper tokenizer (15pt)"
      ]
    },
    {
      "cell_type": "markdown",
      "metadata": {
        "id": "XSY5OEZeLmC4"
      },
      "source": [
        "In the next code cell, the tokenizer used by multilingual models is initialized in the variable ``tokenizer``. Without changing the ``tokenizer`` variable, do the following:\n",
        "\n",
        "1. Print the token index of beginning of sentence and end of sentence special tokens\n",
        "2. Based on [this dictionary](https://github.com/openai/whisper/blob/90db0de1896c23cbfaf0c58bc2d30665f709f170/whisper/tokenizer.py#L10), print the the token index of two languages: French and German. An example is already given below for English.\n",
        "3. Given that the supported languages are in ``whisper.tokenizer.LANGUAGES``, find out only using python code if (a) your native tongue is supported (b) the language Kurmanji is supported."
      ]
    },
    {
      "cell_type": "code",
      "execution_count": 86,
      "metadata": {
        "id": "xiq1IRCR3V4p"
      },
      "outputs": [
        {
          "name": "stderr",
          "output_type": "stream",
          "text": [
            "100%|███████████████████████████████████████| 139M/139M [00:29<00:00, 4.85MiB/s]\n"
          ]
        }
      ],
      "source": [
        "from whisper import load_model\n",
        "\n",
        "model = load_model('base', device='cpu', download_root='./')"
      ]
    },
    {
      "cell_type": "code",
      "execution_count": 87,
      "metadata": {
        "id": "T56NbrBr4wXS"
      },
      "outputs": [],
      "source": [
        "import whisper.tokenizer as whisper_tokenizer\n",
        "\n",
        "tokenizer = whisper_tokenizer.get_tokenizer(\n",
        "    True,  # assume a multilingual model\n",
        "    num_languages=model.num_languages,\n",
        ")"
      ]
    },
    {
      "cell_type": "code",
      "execution_count": 88,
      "metadata": {
        "id": "sG_66a2Q30WH"
      },
      "outputs": [
        {
          "name": "stdout",
          "output_type": "stream",
          "text": [
            "1. Special Tokens:\n",
            "Token index for Beginning of Sentence (BOS): 50258\n",
            "Token index for End of Sentence (EOS): 50257\n"
          ]
        }
      ],
      "source": [
        "## 1. Print the token index of bos, eos (2.5 pt)\n",
        "bos_token_index = tokenizer.special_tokens.get('<|startoftranscript|>')\n",
        "eos_token_index = tokenizer.special_tokens.get('<|endoftext|>')\n",
        "\n",
        "print(\"1. Special Tokens:\")\n",
        "print(f\"Token index for Beginning of Sentence (BOS): {bos_token_index}\")\n",
        "print(f\"Token index for End of Sentence (EOS): {eos_token_index}\")"
      ]
    },
    {
      "cell_type": "code",
      "execution_count": 89,
      "metadata": {
        "id": "XtqMe7Do37qf"
      },
      "outputs": [
        {
          "data": {
            "text/plain": [
              "50259"
            ]
          },
          "execution_count": 89,
          "metadata": {},
          "output_type": "execute_result"
        }
      ],
      "source": [
        "# This is an example to get the language token for English.\n",
        "tokenizer.special_tokens.get('<|en|>')"
      ]
    },
    {
      "cell_type": "code",
      "execution_count": 90,
      "metadata": {
        "id": "WbTGW92Z5gsL"
      },
      "outputs": [
        {
          "name": "stdout",
          "output_type": "stream",
          "text": [
            "\n",
            "2. Language Tokens:\n",
            "Token index for French: 50265\n",
            "Token index for German: 50261\n"
          ]
        }
      ],
      "source": [
        "## 2. print the the token index of French and German (2.5 pt)\n",
        "french_token_index = tokenizer.special_tokens.get('<|fr|>')\n",
        "german_token_index = tokenizer.special_tokens.get('<|de|>')\n",
        "\n",
        "print(\"\\n2. Language Tokens:\")\n",
        "print(f\"Token index for French: {french_token_index}\")\n",
        "print(f\"Token index for German: {german_token_index}\")"
      ]
    },
    {
      "cell_type": "code",
      "execution_count": 91,
      "metadata": {
        "id": "S4k5jTHa5rQc"
      },
      "outputs": [
        {
          "name": "stdout",
          "output_type": "stream",
          "text": [
            "\n",
            "3. Language Support Check:\n",
            "Is SwissGerman tongue ('swiss') supported? No\n",
            "Is Swedish tongue ('sv') supported? Yes\n",
            "Is Kurmanji ('ku') supported? No\n"
          ]
        }
      ],
      "source": [
        "## 3. Find out only using python code if (a) your native tongue is supported (b) the language Kurmanji is supported. (10 pt)\n",
        "print(\"\\n3. Language Support Check:\")\n",
        "# a) Check if Swedish is supported : Checked first if SwissGerman but that is not supported\n",
        "native_language = 'swiss' \n",
        "is_native_supported = native_language in whisper_tokenizer.LANGUAGES\n",
        "print(f\"Is SwissGerman tongue ('{native_language}') supported? {'Yes' if is_native_supported else 'No'}\")\n",
        "native_language = 'sv' # SwissGerman is not supported  swedish is\n",
        "is_native_supported = native_language in whisper_tokenizer.LANGUAGES\n",
        "print(f\"Is Swedish tongue ('{native_language}') supported? {'Yes' if is_native_supported else 'No'}\")\n",
        "\n",
        "# b) Check if Kurmanji is supported\n",
        "is_kurmanji_supported = 'ku' in whisper_tokenizer.LANGUAGES  # 'ku' is the ISO 639-1 code for Kurdish\n",
        "print(f\"Is Kurmanji ('ku') supported? {'Yes' if is_kurmanji_supported else 'No'}\")"
      ]
    },
    {
      "cell_type": "markdown",
      "metadata": {
        "id": "su9OeUZ0VzpK"
      },
      "source": [
        "## 1D convolution vs TDNN (25pt)\n",
        "\n",
        "As seen in class, Whisper uses two convolutional layers before the Transformer layers."
      ]
    },
    {
      "cell_type": "code",
      "execution_count": 92,
      "metadata": {
        "id": "OUehV40XV7HN"
      },
      "outputs": [],
      "source": [
        "import torch\n",
        "import torch.nn as nn\n",
        "import torch.nn.functional as F\n",
        "\n",
        "n_mels = 80\n",
        "n_state = 768\n",
        "conv1 = nn.Conv1d(n_mels, n_state, kernel_size=3)\n",
        "conv2 = nn.Conv1d(n_state, n_state, kernel_size=3)"
      ]
    },
    {
      "cell_type": "code",
      "execution_count": 93,
      "metadata": {
        "id": "a7RCH-i4eg9d"
      },
      "outputs": [],
      "source": [
        "# 1. Create an appropriate input for the above convolutional layer, and apply it\n",
        "# to the first convolutional layer. The input is a 3-dimensional tensor.\n",
        "# The first dimenion is a number of sequences, we assume there is only one sequence.\n",
        "# The second dimenion is the number of filterbank energies per frame.\n",
        "# The third dimension is the maximum audio length in number of frames.\n",
        "\n",
        "x = torch.randn(1, n_mels, 3000)"
      ]
    },
    {
      "cell_type": "code",
      "execution_count": 94,
      "metadata": {
        "id": "cEt-O6dfhH_0"
      },
      "outputs": [
        {
          "data": {
            "text/plain": [
              "torch.Size([1, 768, 2996])"
            ]
          },
          "execution_count": 94,
          "metadata": {},
          "output_type": "execute_result"
        }
      ],
      "source": [
        "# 2. Get the output after passing it through the first 2 convolution layers.\n",
        "\n",
        "# forward pass\n",
        "x = F.gelu(conv1(x))\n",
        "x = F.gelu(conv2(x))\n",
        "\n",
        "# debug statement only, not part of forward pass\n",
        "x.shape"
      ]
    },
    {
      "cell_type": "code",
      "execution_count": 105,
      "metadata": {
        "id": "pkfovmrhiBPf"
      },
      "outputs": [
        {
          "name": "stdout",
          "output_type": "stream",
          "text": [
            "final output shape: torch.Size([1, 768, 1000])\n"
          ]
        }
      ],
      "source": [
        "# 3. Adjust the hyperparameters of the two Conv1d layers above to get an output\n",
        "# of sequence length 1000. Please re-write all code in this cell here. Do not\n",
        "# modify the code above.\n",
        "\n",
        "# conv1 = nn.Conv1d(n_mels, n_state, kernel_size=3, bias=False, padding=1)\n",
        "# conv2 = nn.Conv1d(n_state, n_state, kernel_size=3, padding=1, stride=3)\n",
        "n_mels = 80\n",
        "n_state = 768\n",
        "conv1 = nn.Conv1d(n_mels, n_state, kernel_size=3, stride=2, padding=1, bias=False)  # Halve length\n",
        "conv2 = nn.Conv1d(n_state, n_state, kernel_size=3, stride=1, padding=1)  # Preserve length after interpolation\n",
        "\n",
        "x = torch.randn(1, n_mels, 3000)\n",
        "# Forward pass\n",
        "x = F.gelu(conv1(x))  #first convolution (1500 length)\n",
        "x = F.interpolate(x, size=1000, mode='linear')  #resize to 1000 length\n",
        "x = F.gelu(conv2(x))  #preserving length after interpolation\n",
        "print(\"final output shape:\", x.shape)\n",
        "\n",
        "# Verify the output length\n",
        "assert x.shape == torch.Size([1, n_state, 1000]), \"Output sequence length is not 1000\""
      ]
    },
    {
      "cell_type": "markdown",
      "metadata": {
        "id": "TQD-eQygpuME"
      },
      "source": [
        "4. Would your approach to getting the desired sequence length at the output of the two convolutional layers change if we did not apply the non-linearity in the forward pass?\n",
        "\n",
        "**Answer:**\n",
        "No, if non-linearity (GELU) were removed, the sequence length would not change because non-linearity does not affect the spatial dimensions of the output tensor. Convolution operations (stride, padding, kernel_size) primarily dictate the sequence length.However, removing non-linearity might affect the model's ability to learn complex patterns since non-linear transformations add expressiveness."
      ]
    },
    {
      "cell_type": "markdown",
      "metadata": {
        "id": "nKzZmNCqjdNe"
      },
      "source": [
        "5. Use the Conv1D class instead of the TDNN class in Exercise 4 to create one of the layers of the X-vector network. The details about which layer is given in the code below.\n",
        "\n",
        "NOTE: Only re-write it. No need to test it (unless you prefer to demonstrate that they are equal)."
      ]
    },
    {
      "cell_type": "code",
      "execution_count": 116,
      "metadata": {
        "id": "9fw7QlHcj0Oe"
      },
      "outputs": [],
      "source": [
        "# The class is commented. It is only to be used as a reference\n",
        "class TDNN(nn.Module):\n",
        "     def __init__(\n",
        "         self,\n",
        "         feat_dim,\n",
        "         output_dim,\n",
        "         context_len=1,\n",
        "     ):\n",
        "         super(TDNN, self).__init__()\n",
        "         self.linear = nn.Linear(feat_dim*context_len, output_dim)\n",
        "         self.context_len = torch.tensor(context_len, requires_grad=False)\n",
        "\n",
        "\n",
        "     def forward(self, input):\n",
        "         mb, T, D = input.shape\n",
        "         padded_input = input.reshape(mb, -1).unfold(1, D*self.context_len, D).contiguous()\n",
        "         x = self.linear(padded_input)\n",
        "         return x\n",
        "\n",
        "# Rewrite the line below with Conv1D\n",
        "tdnn1 = TDNN(feat_dim=40, output_dim=128, context_len=3)\n",
        "\n",
        "#tdnn1 = nn.Conv1D(...)\n",
        "conv1d_layer = nn.Conv1d(\n",
        "    in_channels=40,   \n",
        "    out_channels=128,  \n",
        "    kernel_size=3,     #context_len\n",
        "    stride=1,          #match TDNN step size\n",
        "    padding=0,  \n",
        "    bias=False          \n",
        ")"
      ]
    },
    {
      "cell_type": "code",
      "execution_count": null,
      "metadata": {},
      "outputs": [
        {
          "name": "stdout",
          "output_type": "stream",
          "text": [
            "TDNN Output Shape: torch.Size([1, 98, 128])\n",
            "Conv1D Output Shape: torch.Size([1, 98, 128])\n"
          ]
        }
      ],
      "source": [
        "# dummy input\n",
        "x = torch.randn(1, 100, 40) \n",
        "tdnn_output = tdnn1(x)\n",
        "print(\"TDNN Output Shape:\", tdnn_output.shape)\n",
        "\n",
        "# Conv1D layer forward pass\n",
        "x_conv = x.permute(0, 2, 1) \n",
        "conv_output = conv1d_layer(x_conv)\n",
        "conv_output = conv_output.permute(0, 2, 1)\n",
        "print(\"Conv1D Output Shape:\", conv_output.shape)\n",
        "\n",
        "assert tdnn_output.shape == conv_output.shape, \"mismatch in output shapes!\"\n",
        "\n"
      ]
    }
  ],
  "metadata": {
    "colab": {
      "provenance": [],
      "toc_visible": true
    },
    "kernelspec": {
      "display_name": "GPU-env",
      "language": "python",
      "name": "python3"
    },
    "language_info": {
      "codemirror_mode": {
        "name": "ipython",
        "version": 3
      },
      "file_extension": ".py",
      "mimetype": "text/x-python",
      "name": "python",
      "nbconvert_exporter": "python",
      "pygments_lexer": "ipython3",
      "version": "3.10.13"
    }
  },
  "nbformat": 4,
  "nbformat_minor": 0
}
